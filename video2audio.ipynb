{
 "cells": [
  {
   "cell_type": "code",
   "execution_count": 1,
   "metadata": {},
   "outputs": [],
   "source": [
    "import librosa\n",
    "import matplotlib.pyplot as plt\n",
    "import librosa.display \n",
    "import numpy as np\n",
    "#import sox\n",
    "import os\n",
    "import soundfile as sf\n",
    "from itertools import groupby\n",
    "import pandas as pd\n",
    "import scipy\n",
    "from pydub import AudioSegment\n",
    "import glob"
   ]
  },
  {
   "cell_type": "code",
   "execution_count": 2,
   "metadata": {},
   "outputs": [],
   "source": [
    "pathv=r'/Volumes/jiarui/hanako/video_more/ASD'\n",
    "pathso=r'/Volumes/jiarui/hanako/audio/ASD'\n",
    "pathsoa=r'/Volumes/jiarui/hanako/audiom/ASD'"
   ]
  },
  {
   "cell_type": "code",
   "execution_count": 3,
   "metadata": {},
   "outputs": [
    {
     "name": "stdout",
     "output_type": "stream",
     "text": [
      "Deleted: /Volumes/jiarui/hanako/video_more/ASD/._Ariella.mp4\n",
      "Deleted: /Volumes/jiarui/hanako/video_more/ASD/._Frederick_final.mp4\n"
     ]
    }
   ],
   "source": [
    "for file in glob.glob(os.path.join(pathv, \"._*\")):\n",
    "    try:\n",
    "        os.remove(file)\n",
    "        print(f\"Deleted: {file}\")\n",
    "    except Exception as e:\n",
    "        print(f\"Error deleting {file}: {e}\")"
   ]
  },
  {
   "cell_type": "code",
   "execution_count": 4,
   "metadata": {},
   "outputs": [
    {
     "name": "stdout",
     "output_type": "stream",
     "text": [
      "/Volumes/jiarui/hanako/video_more/ASD/Frederick_final.mp4\n"
     ]
    }
   ],
   "source": [
    "filevideo=sorted(os.listdir(pathv))\n",
    "print(pathv+'/'+filevideo[5])"
   ]
  },
  {
   "cell_type": "code",
   "execution_count": 5,
   "metadata": {},
   "outputs": [
    {
     "name": "stdout",
     "output_type": "stream",
     "text": [
      "Frederick_final.mp4\n",
      "18.0352 48000\n"
     ]
    }
   ],
   "source": [
    "name_video=filevideo[5]\n",
    "print(filevideo[5])\n",
    "name_audio=name_video.split('.')[0]+'.wav'\n",
    "nameout=pathso+\"/\"+name_audio\n",
    "stream=AudioSegment.from_file(pathv+\"/\"+name_video,\"mp4\") \n",
    "stream.export(nameout, format=\"wav\")\n",
    "xt, srt = librosa.load(nameout,sr=None)\n",
    "print(len(xt)/srt/60,srt)\n",
    "datat = librosa.resample(y=xt, orig_sr=srt, target_sr=16000)\n",
    "y_mono = librosa.to_mono(datat)\n",
    "a=pathsoa+\"/\"+name_audio\n",
    "sf.write(a, y_mono, 16000, format='wav')"
   ]
  },
  {
   "cell_type": "code",
   "execution_count": null,
   "metadata": {},
   "outputs": [],
   "source": []
  },
  {
   "cell_type": "code",
   "execution_count": 29,
   "metadata": {},
   "outputs": [
    {
     "name": "stdout",
     "output_type": "stream",
     "text": [
      "0\n",
      "AMBER_60.2_FINAL.mp4\n",
      "1\n",
      "Aditi.mp4\n",
      "2\n",
      "Adoria.mp4\n",
      "3\n",
      "Colton.mp4\n",
      "4\n",
      "ElizabethG.mp4\n",
      "5\n",
      "Elliot.mp4\n",
      "6\n",
      "Hana-2.mp4\n",
      "7\n",
      "Hana-no-masks.mp4\n",
      "8\n",
      "Henry_42_final.mp4\n",
      "9\n",
      "Keyon-final.mp4\n",
      "10\n",
      "Khamry.mp4\n",
      "11\n",
      "Martin.mp4\n",
      "12\n",
      "Mia-G.mp4\n",
      "13\n",
      "Mona.mp4\n",
      "14\n",
      "NyAsia.mp4\n",
      "15\n",
      "SamuelFinal.mp4\n",
      "16\n",
      "SebastianB_66_Final.mp4\n",
      "17\n",
      "Theo.mp4\n",
      "18\n",
      "Tove_40_Final.mp4\n",
      "19\n",
      "Viviana.mp4\n"
     ]
    }
   ],
   "source": [
    "for i in range(len(filevideo)):\n",
    "    print(i)\n",
    "    name_video=filevideo[i]\n",
    "    print(filevideo[i])\n",
    "    name_audio=name_video.split('.')[0]+'.wav'\n",
    "    nameout=pathso+\"/\"+name_audio\n",
    "    stream=AudioSegment.from_file(pathv+\"/\"+name_video,\"mp4\") \n",
    "    stream.export(nameout, format=\"wav\")\n",
    "    xt, srt = librosa.load(nameout,sr=None)\n",
    "    datat = librosa.resample(y=xt, orig_sr=srt, target_sr=16000)\n",
    "    y_mono = librosa.to_mono(datat)\n",
    "    a=pathsoa+\"/\"+name_audio\n",
    "    sf.write(a, y_mono, 16000, format='wav')"
   ]
  }
 ],
 "metadata": {
  "kernelspec": {
   "display_name": "Python 3 (ipykernel)",
   "language": "python",
   "name": "python3"
  },
  "language_info": {
   "codemirror_mode": {
    "name": "ipython",
    "version": 3
   },
   "file_extension": ".py",
   "mimetype": "text/x-python",
   "name": "python",
   "nbconvert_exporter": "python",
   "pygments_lexer": "ipython3",
   "version": "3.12.8"
  }
 },
 "nbformat": 4,
 "nbformat_minor": 4
}
