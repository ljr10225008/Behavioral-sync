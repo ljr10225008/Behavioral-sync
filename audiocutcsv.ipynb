{
 "cells": [
  {
   "cell_type": "code",
   "execution_count": 21,
   "metadata": {},
   "outputs": [],
   "source": [
    "import librosa\n",
    "import os\n",
    "import pandas as pd\n",
    "import numpy as np\n",
    "import soundfile as sf\n",
    "import glob"
   ]
  },
  {
   "cell_type": "code",
   "execution_count": 22,
   "metadata": {},
   "outputs": [],
   "source": [
    "path=r'/Volumes/jiarui/hanako/audiom/ASD'\n",
    "pathtext=r'/Volumes/jiarui/hanako/csv_files/asd'\n",
    "pathsave=r'/Volumes/jiarui/hanako/audiomcut/asd'"
   ]
  },
  {
   "cell_type": "code",
   "execution_count": 23,
   "metadata": {},
   "outputs": [],
   "source": [
    "for file in glob.glob(os.path.join(path, \"._*\")):\n",
    "    try:\n",
    "        os.remove(file)\n",
    "        print(f\"Deleted: {file}\")\n",
    "    except Exception as e:\n",
    "        print(f\"Error deleting {file}: {e}\")"
   ]
  },
  {
   "cell_type": "code",
   "execution_count": 24,
   "metadata": {
    "scrolled": true
   },
   "outputs": [
    {
     "name": "stdout",
     "output_type": "stream",
     "text": [
      "Deleted: /Volumes/jiarui/hanako/csv_files/asd/._Charlotte.csv\n"
     ]
    }
   ],
   "source": [
    "for file in glob.glob(os.path.join(pathtext, \"._*\")):\n",
    "    try:\n",
    "        os.remove(file)\n",
    "        print(f\"Deleted: {file}\")\n",
    "    except Exception as e:\n",
    "        print(f\"Error deleting {file}: {e}\")"
   ]
  },
  {
   "cell_type": "code",
   "execution_count": 25,
   "metadata": {},
   "outputs": [],
   "source": [
    "audiofiles=os.listdir(path)\n",
    "audiofiles.sort()\n",
    "folders=os.listdir(pathtext)\n",
    "folders.sort()"
   ]
  },
  {
   "cell_type": "code",
   "execution_count": 26,
   "metadata": {},
   "outputs": [],
   "source": [
    "def newfolder(pathin):\n",
    "    folder = os.path.exists(pathin)\n",
    "    if not folder:\n",
    "        os.makedirs(pathin)"
   ]
  },
  {
   "cell_type": "code",
   "execution_count": 27,
   "metadata": {},
   "outputs": [],
   "source": [
    "for i in range(len(folders)):\n",
    "    pathtem=pathsave+'/'+os.path.splitext(folders[i])[0]\n",
    "    if os.path.exists(path+'/'+os.path.splitext(folders[i])[0]+'.wav') and os.path.exists(pathtext+'/'+folders[i]):\n",
    "       newfolder(pathtem)"
   ]
  },
  {
   "cell_type": "code",
   "execution_count": 28,
   "metadata": {},
   "outputs": [
    {
     "name": "stdout",
     "output_type": "stream",
     "text": [
      "['Alexander', 'Anoush', 'Ariella', 'Atlas', 'Avery', 'Cayden', 'Charlotte', 'Chloe', 'Edward', 'Frederick', 'Henry', 'Ivan_Herc', 'Jasper', 'Kaleb', 'Luis', 'Owen', 'Roman', 'Ryan', 'Samuel', 'Stephanie', 'Vincent']\n"
     ]
    }
   ],
   "source": [
    "folders_save=os.listdir(pathsave)\n",
    "folders_save.sort()\n",
    "print(folders_save)"
   ]
  },
  {
   "cell_type": "code",
   "execution_count": 29,
   "metadata": {},
   "outputs": [],
   "source": [
    "for i in range(len(folders_save)):\n",
    "    pathtemp=pathsave+'/'+folders_save[i]+'/'+'PAR'\n",
    "    pathtemc=pathsave+'/'+folders_save[i]+'/'+'CHI'\n",
    "    newfolder(pathtemp)\n",
    "    newfolder(pathtemc)"
   ]
  },
  {
   "cell_type": "code",
   "execution_count": 30,
   "metadata": {},
   "outputs": [
    {
     "name": "stdout",
     "output_type": "stream",
     "text": [
      "Alexander\n",
      "Anoush\n",
      "Ariella\n",
      "Atlas\n",
      "c 872295\n",
      "c Atlas 872295\n",
      "p Atlas 721712.0\n",
      "Avery\n",
      "Cayden\n",
      "Charlotte\n",
      "p 209666\n",
      "p Charlotte 209666\n",
      "Chloe\n",
      "Edward\n",
      "Frederick\n",
      "Henry\n",
      "Ivan_Herc\n",
      "Jasper\n",
      "Kaleb\n",
      "Luis\n",
      "Owen\n",
      "Roman\n",
      "Ryan\n",
      "Samuel\n",
      "Stephanie\n",
      "Vincent\n"
     ]
    }
   ],
   "source": [
    "for i in range(len(folders_save)):\n",
    "    print(folders_save[i])\n",
    "    audioread=path+'/'+folders_save[i]+'.wav'\n",
    "    if not os.path.exists(audioread):\n",
    "        print(f\"Skipping {folders_save[i]}: Audio file not found.\")\n",
    "        continue \n",
    "    x, sr = librosa.load(audioread,sr=None)\n",
    "    testfile=pathtext+'/'+folders_save[i]+'.csv'\n",
    "    fileread=pd.read_csv(testfile)\n",
    "    start_c=fileread['childverbal.onset'].dropna()\n",
    "    end_c=fileread['childverbal.offset'].dropna()\n",
    "    start_p=fileread['parentverbal.onset'].dropna()\n",
    "    end_p=fileread['parentverbal.offset'].dropna()\n",
    "    for j in range(len(start_c)):\n",
    "        if start_c[j]==end_c[j]:\n",
    "            print('c',start_c[j])\n",
    "        startcut=int(start_c[j]/1000*sr)\n",
    "        endcut=int(end_c[j]/1000*sr)\n",
    "        datac=x[startcut:endcut]\n",
    "        if len(datac)==0:\n",
    "           print('c',folders_save[i],start_c[j])\n",
    "        a=pathsave+'/'+folders_save[i]+'/CHI'+'/'+str(int(start_c[j]))+'.wav'\n",
    "        sf.write(a, datac, 16000, format='wav')\n",
    "    for j in range(len(start_p)):\n",
    "        if start_p[j]==end_p[j]:\n",
    "            print('p',start_p[j])\n",
    "        startcut=int(start_p[j]/1000*sr)\n",
    "        endcut=int(end_p[j]/1000*sr)\n",
    "        datac=x[startcut:endcut]\n",
    "        if len(datac)==0:\n",
    "           print('p',folders_save[i],start_p[j])\n",
    "        a=pathsave+'/'+folders_save[i]+'/PAR'+'/'+str(int(start_p[j]))+'.wav'\n",
    "        sf.write(a, datac, 16000, format='wav')"
   ]
  },
  {
   "cell_type": "code",
   "execution_count": null,
   "metadata": {},
   "outputs": [],
   "source": []
  }
 ],
 "metadata": {
  "kernelspec": {
   "display_name": "Python 3 (ipykernel)",
   "language": "python",
   "name": "python3"
  },
  "language_info": {
   "codemirror_mode": {
    "name": "ipython",
    "version": 3
   },
   "file_extension": ".py",
   "mimetype": "text/x-python",
   "name": "python",
   "nbconvert_exporter": "python",
   "pygments_lexer": "ipython3",
   "version": "3.12.8"
  }
 },
 "nbformat": 4,
 "nbformat_minor": 4
}
