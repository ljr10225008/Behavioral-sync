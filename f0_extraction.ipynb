{
 "cells": [
  {
   "cell_type": "code",
   "execution_count": 6,
   "id": "cd92d6f0-dfb6-4b4a-900a-6def0dcd7b06",
   "metadata": {},
   "outputs": [],
   "source": [
    "import math\n",
    "import numpy as np\n",
    "import matplotlib.pyplot as plt\n",
    "import librosa\n",
    "import librosa.display\n",
    "import os\n",
    "import re\n",
    "import pandas as pd\n",
    "import warnings\n",
    "import glob\n",
    "warnings.filterwarnings(\"ignore\")"
   ]
  },
  {
   "cell_type": "code",
   "execution_count": 7,
   "id": "abb8d8c0-fcfe-4766-b844-26f53aefbbe0",
   "metadata": {},
   "outputs": [],
   "source": [
    "def newfolder(pathin): # this is a function for making a new folder to save the outputs\n",
    "    folder = os.path.exists(pathin)\n",
    "    if not folder:\n",
    "        os.makedirs(pathin)"
   ]
  },
  {
   "cell_type": "code",
   "execution_count": 8,
   "id": "11ec426f-c6b9-40e1-a690-21c4257d5f01",
   "metadata": {},
   "outputs": [],
   "source": [
    "pathsave='/Volumes/jiarui/hanako/Acoustic_feature_project/example_results' #path to save the outputs\n",
    "if os.path.exists(pathsave)==False:\n",
    "    newfolder(pathsave) # here you are using the newfolder function"
   ]
  },
  {
   "cell_type": "code",
   "execution_count": 9,
   "id": "45668717-24c3-4ae1-a9d2-dd4b218a6c4d",
   "metadata": {},
   "outputs": [],
   "source": [
    "def remove_(pathin): # this function is for removing hidden files in Mac os. If it is using in Windows, this function is not necessary.\n",
    "    for file in glob.glob(os.path.join(pathin, \"._*\")):\n",
    "       try:\n",
    "           os.remove(file)\n",
    "           print(f\"Deleted: {file}\")\n",
    "       except Exception as e:\n",
    "           print(f\"Error deleting {file}: {e}\")"
   ]
  },
  {
   "cell_type": "code",
   "execution_count": 10,
   "id": "6670b016-03c2-425d-9e7e-48b68673d0e5",
   "metadata": {},
   "outputs": [],
   "source": [
    "path_parent = r\"/Volumes/jiarui/hanako/Acoustic_feature_project/example_sounds/PAR\" #path to the folder saving parent audio files\n",
    "path_child = r\"/Volumes/jiarui/hanako/Acoustic_feature_project/example_sounds/CHI\" #path to the folder saving child audio files\n",
    "remove_(path_parent) # remove the hidden files in Mac os\n",
    "remove_(path_child)  # remove the hidden files in Mac os\n",
    "files_parent= sorted(os.listdir(path_parent)) # read all audio clips in the parent folder\n",
    "files_child= sorted(os.listdir(path_child)) # read all audio clips in the child folder"
   ]
  },
  {
   "cell_type": "code",
   "execution_count": 11,
   "id": "4efefaf9-d80c-4395-94e6-3c4a528f18f0",
   "metadata": {},
   "outputs": [],
   "source": [
    "def interpolate_f0(f0):\n",
    "    \"\"\"\n",
    "    Interpolates NaN values in the middle of the sequence while keeping NaNs at the edges.\n",
    "    \n",
    "    :param f0: Array of fundamental frequency (f0) values with NaNs.\n",
    "    :return: Interpolated f0 array.\n",
    "    \"\"\"\n",
    "    if np.all(np.isnan(f0)):  # If the entire array is NaN, return as-is\n",
    "        return f0\n",
    "    valid_idx = ~np.isnan(f0)  # Indices of valid (non-NaN) values\n",
    "    if valid_idx.sum() == 0:  # If no valid values, return as-is\n",
    "        return f0\n",
    "    # Find the first and last valid index\n",
    "    first_valid = np.argmax(valid_idx)  # First non-NaN value\n",
    "    last_valid = len(f0) - np.argmax(valid_idx[::-1]) - 1  # Last non-NaN value\n",
    "    # Interpolate only in the middle\n",
    "    interp_values = np.interp(\n",
    "        np.arange(first_valid, last_valid + 1),\n",
    "        np.where(valid_idx)[0], \n",
    "        f0[valid_idx]\n",
    "    )\n",
    "    # Replace only the middle section with interpolated values\n",
    "    f0_interpolated = np.copy(f0)\n",
    "    f0_interpolated[first_valid:last_valid + 1] = interp_values\n",
    "    return f0_interpolated"
   ]
  },
  {
   "cell_type": "code",
   "execution_count": 24,
   "id": "441555df-33ea-4736-9fc3-12232b6d2b59",
   "metadata": {},
   "outputs": [],
   "source": [
    "# This function is for extracting f0 from each audio clip in the folder,\n",
    "# and output the mean and the std of the pitch for each utterance and the pitch counter.\n",
    "# The path is the path to the folder saving the audio clips to be processed,\n",
    "# The files are the audio files in this foler.\n",
    "# fminin and fmaxin are the boundaries used to extract the f0 (fundamental frequency --> represents pitch in this study).\n",
    "def f0_ext(path,files,fminin,fmaxin): \n",
    "    t1=[]\n",
    "    t1_c=[]\n",
    "    for i in range(len(files)):\n",
    "        x,sr1=librosa.load(path+\"/\"+files[i],sr=None)\n",
    "        duration=len(x)/sr1 # duration is always helpful if u want to calculate something like speech rate (number of words/duration)\n",
    "        f0, voiced_flag, voiced_probs = librosa.pyin(x,sr=sr1,frame_length=512, fill_na=np.nan, n_thresholds=50, fmin=fminin, fmax=fmaxin)\n",
    "        f0[np.where(f0<(fminin+1))[0]]=np.nan # the f0 has a value of the boundary is always the noise (outlier), so we remove them \n",
    "        f0[np.where(f0>(fmaxin-1))[0]]=np.nan\n",
    "        if (len(np.where(f0>5)[0]))<1: # for the files extracting too little pitch points, we will ignore it and print the file's name, and continue\n",
    "            print(files[i])            # This is recommended to be used because the audio with too little pitch extracted is not very meaningful to be analyzed.\n",
    "            continue                   # But please pay attention that this will cause some clips were not included in acoustic feature analysis.\n",
    "        f0mean=np.round(np.nanmean(f0),decimals=2) # I saved the f0 using two decimals. Just change the decimals=2 to a desired number when using.\n",
    "        f0std=np.round(np.nanstd(f0),decimals=2)\n",
    "        starttime=np.array(files[i].split('.')[0]) # The extracted f0 will be attached to the file's name, and here I used the start time from the begining of the audio.\n",
    "        starttime = starttime.astype(float)\n",
    "        t=np.c_[starttime,f0mean,f0std,duration] # Pitch features [mean, max, min, range], starttime is the start time of the audio clip, label is used for labeling parent/child\n",
    "        t1.append(t)\n",
    "        # From here, the functions are used to extract the pitch counters. They are helpful to check the quality of the f0 extraction\n",
    "        f0_interpolated = interpolate_f0(f0)\n",
    "        t_c=(starttime,f0_interpolated)\n",
    "        t1_c.append(t_c)\n",
    "    return np.array(t1)[:,0], t1_c"
   ]
  },
  {
   "cell_type": "code",
   "execution_count": 25,
   "id": "04906e10-16d1-403b-ae6e-626e438966c8",
   "metadata": {
    "scrolled": true
   },
   "outputs": [
    {
     "name": "stdout",
     "output_type": "stream",
     "text": [
      "135365.wav\n",
      "220794.wav\n",
      "383449.wav\n",
      "195723.wav\n",
      "256014.wav\n",
      "271219.wav\n",
      "294891.wav\n"
     ]
    }
   ],
   "source": [
    "f0_p,f0_counter_p=f0_ext(path_parent,files_parent,180,500) # I set the min and max boundaries as 180 and 500 for female parents\n",
    "f0_c,f0_counter_c=f0_ext(path_child,files_child,180,600) # I set the min and max boundaries as 180 and 500 for children"
   ]
  },
  {
   "cell_type": "code",
   "execution_count": 33,
   "id": "b9797c6c-c8b2-40e3-84db-aaada3e61331",
   "metadata": {},
   "outputs": [
    {
     "data": {
      "image/png": "[encoded data removed]",
      "text/plain": [
       "<Figure size 800x300 with 1 Axes>"
      ]
     },
     "metadata": {},
     "output_type": "display_data"
    }
   ],
   "source": [
    "# Let us try to print the pitch counter of the first audio clip of the parent to see how it looks like\n",
    "plt.figure(figsize=(8, 3))\n",
    "time_to_plot=np.arange(len(f0_counter_p[0][1]))*128/16000 # This for reformat the time step to original time. The 128 is the hop_length used to extract f0, and 16000 is the sampling rate of the audio. Please change them correspondingly.\n",
    "plt.plot(time_to_plot,f0_counter_p[0][1]) # change the [0] in f0_counter_p[0][1] to 1,2,..., then you can plot the second, third,... pitch counter. Please pay attention that python always count the index from 0, but not 1 \n",
    "plt.xlabel(\"Time (second)\")\n",
    "plt.ylabel(\"F0 (Hz)\")\n",
    "plt.title(\"Pitch counter\")\n",
    "#plt.savefig(pathsave+'/'+'name_of_figure',bbox_inches='tight') # This is for saving the figure. Remove the '#' if you want to use it.\n",
    "plt.show()"
   ]
  },
  {
   "cell_type": "code",
   "execution_count": 35,
   "id": "e6387611-66a3-4f4d-a730-6ea56cbe90ab",
   "metadata": {},
   "outputs": [],
   "source": [
    "# Now we are going to output the calculated results as csv\n",
    "column_names = ['Start_time (msec)', 'F0_mean', 'F0_STD','Duration'] # Define the column titles\n",
    "# Convert to DataFrame\n",
    "df_p = pd.DataFrame(f0_p, columns=column_names)\n",
    "df_c = pd.DataFrame(f0_c, columns=column_names)\n",
    "# Save to CSV\n",
    "df_p.to_csv(pathsave+'/'+'f0_p.csv', index=False) # change 'f0_p.csv' and 'f0_c.csv' to your preferred name for saving the results\n",
    "df_c.to_csv(pathsave+'/'+'f0_c.csv', index=False)"
   ]
  },
  {
   "cell_type": "code",
   "execution_count": null,
   "id": "512854e1-2ff6-43a7-800b-b906fde6ab93",
   "metadata": {},
   "outputs": [],
   "source": []
  }
 ],
 "metadata": {
  "kernelspec": {
   "display_name": "Python 3 (ipykernel)",
   "language": "python",
   "name": "python3"
  },
  "language_info": {
   "codemirror_mode": {
    "name": "ipython",
    "version": 3
   },
   "file_extension": ".py",
   "mimetype": "text/x-python",
   "name": "python",
   "nbconvert_exporter": "python",
   "pygments_lexer": "ipython3",
   "version": "3.12.8"
  }
 },
 "nbformat": 4,
 "nbformat_minor": 5
}
